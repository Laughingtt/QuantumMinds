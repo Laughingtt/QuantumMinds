{
 "cells": [
  {
   "cell_type": "code",
   "execution_count": 1,
   "metadata": {},
   "outputs": [],
   "source": [
    "import json"
   ]
  },
  {
   "cell_type": "code",
   "execution_count": 2,
   "metadata": {},
   "outputs": [],
   "source": [
    "with open('data.json', 'r', encoding='utf-8') as f:\n",
    "    root = json.load(f)"
   ]
  },
  {
   "cell_type": "markdown",
   "metadata": {},
   "source": [
    "#### 定义初始列表"
   ]
  },
  {
   "cell_type": "code",
   "execution_count": 3,
   "metadata": {},
   "outputs": [],
   "source": [
    "disease_name_list = []\n",
    "alternate_name_list = []\n",
    "pathogenic_site_list = []\n",
    "department_list = []\n",
    "symptom_list = []\n",
    "check_list = []\n",
    "complication_list = []\n",
    "confusable_disease_list = []\n",
    "# susceptible_crowd_list = []\n",
    "# expert_remind"
   ]
  },
  {
   "cell_type": "markdown",
   "metadata": {},
   "source": [
    "#### 从json文件中提取各字段数据"
   ]
  },
  {
   "cell_type": "code",
   "execution_count": 4,
   "metadata": {},
   "outputs": [],
   "source": [
    "for key, value in root.items():\n",
    "    disease_name_list.append(key)\n",
    "    if value['alternate_name'] != None:\n",
    "        alternate_name_list.extend(value['alternate_name'].split('、'))\n",
    "    pathogenic_site_list.append(value['pathogenic_site'])\n",
    "    department_list.extend(value['department'].split(','))\n",
    "    if value['symptom'] != None:\n",
    "        symptom_list.extend(value['symptom'].split('、'))\n",
    "    if value['check'] != None:\n",
    "        check_list.extend(value['check'].split('、'))\n",
    "    if value['complication'] != None:\n",
    "        complication_list.extend(value['complication'].split('、'))\n",
    "    if value['confusable_disease'] != None:\n",
    "        confusable_disease_list.extend(value['confusable_disease'].split('、'))"
   ]
  },
  {
   "cell_type": "markdown",
   "metadata": {},
   "source": [
    "#### 将列表集合化，消除重复值"
   ]
  },
  {
   "cell_type": "code",
   "execution_count": 5,
   "metadata": {},
   "outputs": [],
   "source": [
    "disease_name_list = list(set(disease_name_list))\n",
    "alternate_name_list = list(set(alternate_name_list))\n",
    "pathogenic_site_list = list(set(pathogenic_site_list))\n",
    "department_list = list(set(department_list))\n",
    "symptom_list = list(set(symptom_list))\n",
    "check_list = list(set(check_list))\n",
    "complication_list = list(set(complication_list))\n",
    "confusable_disease_list = list(set(confusable_disease_list))"
   ]
  },
  {
   "cell_type": "markdown",
   "metadata": {},
   "source": [
    "#### 将各字段分别写入文件中，便于读取使用"
   ]
  },
  {
   "cell_type": "code",
   "execution_count": 6,
   "metadata": {},
   "outputs": [],
   "source": [
    "def writeData(filename, listname):\n",
    "    with open('%s.txt'%filename, 'w', encoding='utf-8') as f:\n",
    "        for i in range(len(listname)):\n",
    "            f.write(str(listname[i]) + \"\\n\")"
   ]
  },
  {
   "cell_type": "code",
   "execution_count": 7,
   "metadata": {},
   "outputs": [],
   "source": [
    "writeData('disease', disease_name_list)\n",
    "writeData('alternate', alternate_name_list)\n",
    "writeData('pathogenic', pathogenic_site_list)\n",
    "writeData('department', department_list)\n",
    "writeData('symptom', symptom_list)\n",
    "writeData('check', check_list)\n",
    "writeData('complication', complication_list)\n",
    "writeData('confusable', confusable_disease_list)"
   ]
  }
 ],
 "metadata": {
  "kernelspec": {
   "display_name": "ds",
   "language": "python",
   "name": "ds"
  },
  "language_info": {
   "codemirror_mode": {
    "name": "ipython",
    "version": 3
   },
   "file_extension": ".py",
   "mimetype": "text/x-python",
   "name": "python",
   "nbconvert_exporter": "python",
   "pygments_lexer": "ipython3",
   "version": "3.8.5"
  }
 },
 "nbformat": 4,
 "nbformat_minor": 4
}
