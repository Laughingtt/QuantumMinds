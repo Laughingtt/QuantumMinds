{
 "cells": [
  {
   "cell_type": "code",
   "execution_count": 1,
   "metadata": {},
   "outputs": [],
   "source": [
    "import requests\n",
    "import json\n",
    "from lxml import etree\n",
    "from selenium import webdriver"
   ]
  },
  {
   "cell_type": "code",
   "execution_count": 2,
   "metadata": {},
   "outputs": [
    {
     "name": "stderr",
     "output_type": "stream",
     "text": [
      "<ipython-input-2-ed95783e7726>:3: DeprecationWarning: use options instead of chrome_options\n",
      "  driver = webdriver.Chrome(chrome_options=options, executable_path='./chromedriver.exe')\n"
     ]
    }
   ],
   "source": [
    "options = webdriver.ChromeOptions()\n",
    "options.add_argument('lang=zh_CN.UTF-8')\n",
    "driver = webdriver.Chrome(chrome_options=options, executable_path='./chromedriver.exe')"
   ]
  },
  {
   "cell_type": "code",
   "execution_count": 3,
   "metadata": {},
   "outputs": [],
   "source": [
    "driver.get(url = 'http://jibing.wenyw.com/bamaokuang/bingyin.html')\n",
    "page = driver.page_source\n",
    "page_html = etree.HTML(page)"
   ]
  },
  {
   "cell_type": "code",
   "execution_count": 4,
   "metadata": {},
   "outputs": [],
   "source": [
    "pathogeny = page_html.xpath('/html/body/div[4]/ul[1]/div[2]/div/p/text()')"
   ]
  },
  {
   "cell_type": "code",
   "execution_count": 5,
   "metadata": {},
   "outputs": [
    {
     "name": "stdout",
     "output_type": "stream",
     "text": [
      "['                    ', '\\u3000\\u3000', '\\u3000\\u3000有人认为家庭动力学因素可能是拔毛癖发病和使症状持续的因素，如父母性情急躁、消极、不履行父母的职能、不与孩子接触；父母与孩子敌对或严厉健康搜索是女性少年患者家庭的主要模式。性心理发育各期的多个固定点可能是此病的病理心理学原因。有报道拔毛癖患者与强迫症临床表现相似及其一级亲属中强迫症出现率较高，同时，使用能控制强迫症患者症状的5-羟色胺的抗抑郁剂，如氯丙咪嗪和氟西汀(氟苯氧丙胺)治疗拔毛癖同样有效，因此，认为拔毛癖可能是强迫症的一种亚型。', '\\u3000', '\\u3000\\u3000有人认为家庭动力学因素可能是拔毛癖发病和使症状持续的因素，如父母性情急躁、消极、健康搜索不履行父母的职能、不与孩子接触；父母与孩子敌对或严厉是女性少年患者家庭的主要模式。性心理发育各期的多个固定点可能是此病的病理心理学原因。有报道拔毛癖患者与强迫症临床表现相似及其一级亲属中强迫症出现率较高，同时，使用能控制强迫症患者症状的5-羟色胺的抗抑郁剂，如氯丙咪嗪和氟西汀(氟苯氧丙胺)治疗拔毛癖同样有效，因此，认为拔毛癖可能是强迫症的一种亚型。']\n"
     ]
    }
   ],
   "source": [
    "print(pathogeny)"
   ]
  },
  {
   "cell_type": "code",
   "execution_count": null,
   "metadata": {},
   "outputs": [],
   "source": []
  }
 ],
 "metadata": {
  "kernelspec": {
   "display_name": "ds",
   "language": "python",
   "name": "ds"
  },
  "language_info": {
   "codemirror_mode": {
    "name": "ipython",
    "version": 3
   },
   "file_extension": ".py",
   "mimetype": "text/x-python",
   "name": "python",
   "nbconvert_exporter": "python",
   "pygments_lexer": "ipython3",
   "version": "3.8.5"
  }
 },
 "nbformat": 4,
 "nbformat_minor": 4
}
